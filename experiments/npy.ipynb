{
 "cells": [
  {
   "cell_type": "code",
   "execution_count": 5,
   "metadata": {},
   "outputs": [
    {
     "name": "stdout",
     "output_type": "stream",
     "text": [
      "Accuracy: 0.73\n",
      "3 true: 0 false: 1\n",
      "4 true: 1 false: 0\n",
      "5 true: 1 false: 0\n",
      "8 true: 1 false: 0\n",
      "20 true: 1 false: 0\n",
      "29 true: 1 false: 0\n",
      "33 true: 1 false: 0\n",
      "34 true: 1 false: 0\n",
      "37 true: 1 false: 0\n",
      "45 true: 1 false: 0\n",
      "49 true: 1 false: 0\n",
      "52 true: 1 false: 0\n",
      "53 true: 1 false: 0\n",
      "56 true: 1 false: 0\n",
      "59 true: 1 false: 0\n",
      "63 true: 1 false: 0\n",
      "64 true: 0 false: 1\n",
      "75 true: 0 false: 1\n",
      "80 true: 0 false: 1\n",
      "88 true: 0 false: 1\n",
      "89 true: 1 false: 0\n",
      "90 true: 0 false: 1\n",
      "91 true: 1 false: 0\n",
      "92 true: 1 false: 0\n",
      "93 true: 1 false: 0\n",
      "94 true: 0 false: 1\n",
      "95 true: 0 false: 1\n"
     ]
    }
   ],
   "source": [
    "# Copy the array directly from the .npy file\n",
    "# Place the correct answer in the t1\n",
    "# Place the answers to be tested in the t2\n",
    "t1 = [0, 1, 0, 0, 1, 1, 0, 0, 1, 0, 1, 1, 0, 0, 0, 1, 1, 1, 0, 0, 1, 1, 0, 0, 1, 1, 0, 1, 0, 1, 1, 1, 1, 1, 1, 1, 0, 1, 0, 0, 1, 0, 1, 0, 0, 1, 1, 0, 0, 1, 0, 0, 1, 1, 0, 1, 1, 1, 1, 1, 0, 0, 1, 1, 0, 1, 1, 0, 0, 0, 0, 0, 1, 0, 0, 0, 1, 0, 1, 0, 0, 0, 1, 1, 1, 0, 1, 1, 0, 1, 0, 1, 1, 1, 0, 0, 1, 1, 0, 0]\n",
    "t2 = [0, 1, 0, 1, 0, 0, 0, 0, 0, 0, 1, 1, 0, 0, 0, 1, 1, 1, 0, 0, 0, 1, 0, 0, 1, 1, 0, 1, 0, 0, 1, 1, 1, 0, 0, 1, 0, 0, 0, 0, 1, 0, 1, 0, 0, 0, 1, 0, 0, 0, 0, 0, 0, 0, 0, 1, 0, 1, 1, 0, 0, 0, 1, 0, 1, 1, 1, 0, 0, 0, 0, 0, 1, 0, 0, 1, 1, 0, 1, 0, 1, 0, 1, 1, 1, 0, 1, 1, 1, 0, 1, 0, 0, 0, 1, 1, 1, 1, 0, 0]\n",
    "\n",
    "correct = 0\n",
    "for i in range(len(t1)):\n",
    "    if t1[i] ==t2[i]:\n",
    "        correct += 1\n",
    "print(\"Accuracy:\", (correct) / (len(t1)))\n",
    "for i in range(len(t1)):\n",
    "    if t1[i] != t2[i]:\n",
    "        print(i, \"true:\", t1[i], \"false:\", t2[i])"
   ]
  },
  {
   "cell_type": "code",
   "execution_count": null,
   "metadata": {},
   "outputs": [],
   "source": [
    "# Self-Consistency\n",
    "list1 = [1, 2, 4, 1, 4, 1, 2, 2, 3, 3, 3, 1, 3, 0, 3, 3, 3, 0, 0, 1, 3, 2, 1, 0, 3, 3, 3, 2, 2, 1, 3, 3, 3, 3, 3, 3, 1, 3, 2, 3, 0, 0, 1, 3, 2, 0]\n",
    "list2 = [1, 0, 0, 1, 1, 1, 2, 2, 2, 1, 3, 2, 3, 1, 2, 0, 1, 1, 3, 1, 3, 1, 2, 3, 3, 3, 2, 3, 2, 1, 1, 3, 0, 1, 1, 4, 3, 3, 1, 3, 0, 1, 1, 0, 2, 1]\n",
    "list3 = [1, 3, 0, 3, 2, 1, 2, 2, 0, 0, 3, 2, 3, 3, 1, 0, 1, 1, 1, 0, 3, 0, 1, 3, 3, 3, 2, 1, 1, 1, 1, 1, 0, 1, 2, 3, 3, 3, 1, 0, 0, 0, 1, 0, 2, 2]\n",
    "list4 = [1, 2, 0, 3, 3, 0, 2, 2, 0, 3, 2, 2, 3, 1, 1, 3, 0, 1, 3, 3, 3, 3, 1, 3, 3, 3, 3, 3, 2, 1, 1, 3, 0, 0, 2, 3, 1, 3, 2, 3, 1, 3, 1, 0, 2, 0]\n",
    "list5 = [1, 2, 0, 0, 2, 1, 1, 0, 3, 3, 0, 2, 3, 3, 2, 3, 1, 1, 0, 1, 1, 2, 1, 2, 3, 3, 2, 2, 2, 3, 0, 3, 3, 1, 3, 0, 1, 3, 1, 3, 2, 1, 1, 3, 2, 2]\n",
    "list = []\n",
    "for i in range(len(list4)):\n",
    "    list4[i] = int(list4[i])\n",
    "for i in range(len(list3)):\n",
    "    temp = [0, 0, 0, 0, 0]\n",
    "    temp[list1[i]] += 1\n",
    "    temp[list2[i]] += 1\n",
    "    temp[list3[i]] += 1\n",
    "    temp[list4[i]] += 1\n",
    "    temp[list5[i]] += 1\n",
    "    list.append(temp.index(max(temp)))\n",
    "print(list)\n",
    "import numpy as np\n",
    "np.save('sc.npy', list)"
   ]
  }
 ],
 "metadata": {
  "kernelspec": {
   "display_name": "Python 3",
   "language": "python",
   "name": "python3"
  },
  "language_info": {
   "codemirror_mode": {
    "name": "ipython",
    "version": 3
   },
   "file_extension": ".py",
   "mimetype": "text/x-python",
   "name": "python",
   "nbconvert_exporter": "python",
   "pygments_lexer": "ipython3",
   "version": "3.10.5"
  }
 },
 "nbformat": 4,
 "nbformat_minor": 2
}
